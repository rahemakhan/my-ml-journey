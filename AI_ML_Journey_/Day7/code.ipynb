{
 "cells": [
  {
   "cell_type": "markdown",
   "id": "634bc835",
   "metadata": {},
   "source": [
    "# Day 7 - Code Notebook"
   ]
  },
  {
   "cell_type": "code",
   "execution_count": null,
   "id": "6d3a016e",
   "metadata": {},
   "outputs": [],
   "source": [
    "# Write your code here"
   ]
  }
 ],
 "metadata": {},
 "nbformat": 4,
 "nbformat_minor": 5
}