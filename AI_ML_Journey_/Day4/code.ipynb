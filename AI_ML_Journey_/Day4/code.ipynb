{
 "cells": [
  {
   "cell_type": "markdown",
   "id": "fc96643a",
   "metadata": {},
   "source": [
    "# Day 4 - Python OOP, NumPy, and Pandas Intro"
   ]
  },
  {
   "cell_type": "code",
   "execution_count": null,
   "id": "e083e0a0",
   "metadata": {},
   "outputs": [],
   "source": [
    "import numpy as np\n",
    "arr = np.array([1, 2, 3])\n",
    "print(\"NumPy Array:\", arr)"
   ]
  }
 ],
 "metadata": {},
 "nbformat": 4,
 "nbformat_minor": 5
}