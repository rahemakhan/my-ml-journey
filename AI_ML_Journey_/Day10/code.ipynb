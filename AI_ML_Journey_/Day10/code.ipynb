{
 "cells": [
  {
   "cell_type": "markdown",
   "id": "65a476a8",
   "metadata": {},
   "source": [
    "# Day 10 - Code Notebook"
   ]
  },
  {
   "cell_type": "code",
   "execution_count": null,
   "id": "ce0a8fb4",
   "metadata": {},
   "outputs": [],
   "source": [
    "# Write your code here"
   ]
  }
 ],
 "metadata": {},
 "nbformat": 4,
 "nbformat_minor": 5
}