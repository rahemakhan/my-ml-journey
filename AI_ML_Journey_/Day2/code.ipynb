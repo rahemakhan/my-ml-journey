{
 "cells": [
  {
   "cell_type": "markdown",
   "id": "d420f8c6",
   "metadata": {},
   "source": [
    "# Day 2 - Python Refresher & Logic Building"
   ]
  },
  {
   "cell_type": "code",
   "execution_count": null,
   "id": "b2f66e07",
   "metadata": {},
   "outputs": [],
   "source": [
    "for i in range(1, 6):\n",
    "    print(\"*\" * i)"
   ]
  }
 ],
 "metadata": {},
 "nbformat": 4,
 "nbformat_minor": 5
}