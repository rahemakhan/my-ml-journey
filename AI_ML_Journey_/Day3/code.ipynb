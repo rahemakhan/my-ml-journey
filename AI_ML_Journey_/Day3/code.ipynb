{
 "cells": [
  {
   "cell_type": "markdown",
   "id": "35b23fc3",
   "metadata": {},
   "source": [
    "# Day 3 - Data Visualization with Matplotlib"
   ]
  },
  {
   "cell_type": "code",
   "execution_count": null,
   "id": "1c903ed7",
   "metadata": {},
   "outputs": [],
   "source": [
    "import matplotlib.pyplot as plt\n",
    "\n",
    "x = [1, 2, 3, 4]\n",
    "y = [2, 4, 6, 8]\n",
    "\n",
    "plt.plot(x, y)\n",
    "plt.title(\"Simple Line Plot\")\n",
    "plt.show()"
   ]
  }
 ],
 "metadata": {},
 "nbformat": 4,
 "nbformat_minor": 5
}