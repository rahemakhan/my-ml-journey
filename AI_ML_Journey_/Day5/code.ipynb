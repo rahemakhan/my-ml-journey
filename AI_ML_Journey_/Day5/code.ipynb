{
 "cells": [
  {
   "cell_type": "markdown",
   "id": "fb1245c4",
   "metadata": {},
   "source": [
    "# Day 5 - Data Handling with Pandas"
   ]
  },
  {
   "cell_type": "code",
   "execution_count": null,
   "id": "a08d0138",
   "metadata": {},
   "outputs": [],
   "source": [
    "import pandas as pd\n",
    "data = {'Name': ['Alice', 'Bob'], 'Score': [90, 85]}\n",
    "df = pd.DataFrame(data)\n",
    "print(df)"
   ]
  }
 ],
 "metadata": {},
 "nbformat": 4,
 "nbformat_minor": 5
}