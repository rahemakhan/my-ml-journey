{
 "cells": [
  {
   "cell_type": "markdown",
   "id": "ff746d83",
   "metadata": {},
   "source": [
    "# Day 1 - Getting Started with AI/ML"
   ]
  },
  {
   "cell_type": "code",
   "execution_count": null,
   "id": "bee3e8bd",
   "metadata": {},
   "outputs": [],
   "source": [
    "def ai_greet(name):\n",
    "    return f\"Hey {name}, welcome to the world of AI!\"\n",
    "\n",
    "print(ai_greet(\"YourName\"))"
   ]
  }
 ],
 "metadata": {},
 "nbformat": 4,
 "nbformat_minor": 5
}