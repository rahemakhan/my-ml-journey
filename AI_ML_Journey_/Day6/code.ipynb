{
 "cells": [
  {
   "cell_type": "markdown",
   "id": "48fb4e7c",
   "metadata": {},
   "source": [
    "# Day 6 - Code Notebook"
   ]
  },
  {
   "cell_type": "code",
   "execution_count": null,
   "id": "0c279f56",
   "metadata": {},
   "outputs": [],
   "source": [
    "# Write your code here"
   ]
  }
 ],
 "metadata": {},
 "nbformat": 4,
 "nbformat_minor": 5
}