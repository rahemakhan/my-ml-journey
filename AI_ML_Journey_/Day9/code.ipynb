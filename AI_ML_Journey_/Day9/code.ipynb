{
 "cells": [
  {
   "cell_type": "markdown",
   "id": "4782aee2",
   "metadata": {},
   "source": [
    "# Day 9 - Code Notebook"
   ]
  },
  {
   "cell_type": "code",
   "execution_count": null,
   "id": "e69cd59d",
   "metadata": {},
   "outputs": [],
   "source": [
    "# Write your code here"
   ]
  }
 ],
 "metadata": {},
 "nbformat": 4,
 "nbformat_minor": 5
}