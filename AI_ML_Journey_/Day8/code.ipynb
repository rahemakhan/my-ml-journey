{
 "cells": [
  {
   "cell_type": "markdown",
   "id": "41db224d",
   "metadata": {},
   "source": [
    "# Day 8 - Code Notebook"
   ]
  },
  {
   "cell_type": "code",
   "execution_count": null,
   "id": "a9582aba",
   "metadata": {},
   "outputs": [],
   "source": [
    "# Write your code here"
   ]
  }
 ],
 "metadata": {},
 "nbformat": 4,
 "nbformat_minor": 5
}